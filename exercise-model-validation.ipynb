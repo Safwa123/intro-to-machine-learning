{
 "cells": [
  {
   "cell_type": "markdown",
   "id": "e79ba96a",
   "metadata": {
    "papermill": {
     "duration": 0.004838,
     "end_time": "2022-07-10T18:54:01.770749",
     "exception": false,
     "start_time": "2022-07-10T18:54:01.765911",
     "status": "completed"
    },
    "tags": []
   },
   "source": [
    "**This notebook is an exercise in the [Introduction to Machine Learning](https://www.kaggle.com/learn/intro-to-machine-learning) course.  You can reference the tutorial at [this link](https://www.kaggle.com/dansbecker/model-validation).**\n",
    "\n",
    "---\n"
   ]
  },
  {
   "cell_type": "markdown",
   "id": "300de8fa",
   "metadata": {
    "papermill": {
     "duration": 0.003541,
     "end_time": "2022-07-10T18:54:01.778383",
     "exception": false,
     "start_time": "2022-07-10T18:54:01.774842",
     "status": "completed"
    },
    "tags": []
   },
   "source": [
    "## Recap\n",
    "You've built a model. In this exercise you will test how good your model is.\n",
    "\n",
    "Run the cell below to set up your coding environment where the previous exercise left off."
   ]
  },
  {
   "cell_type": "code",
   "execution_count": 1,
   "id": "c258b2a5",
   "metadata": {
    "execution": {
     "iopub.execute_input": "2022-07-10T18:54:01.788935Z",
     "iopub.status.busy": "2022-07-10T18:54:01.788093Z",
     "iopub.status.idle": "2022-07-10T18:54:03.303138Z",
     "shell.execute_reply": "2022-07-10T18:54:03.301883Z"
    },
    "papermill": {
     "duration": 1.523732,
     "end_time": "2022-07-10T18:54:03.306218",
     "exception": false,
     "start_time": "2022-07-10T18:54:01.782486",
     "status": "completed"
    },
    "tags": []
   },
   "outputs": [
    {
     "name": "stdout",
     "output_type": "stream",
     "text": [
      "First in-sample predictions: [208500. 181500. 223500. 140000. 250000.]\n",
      "Actual target values for those homes: [208500, 181500, 223500, 140000, 250000]\n",
      "Setup Complete\n"
     ]
    }
   ],
   "source": [
    "# Code you have previously used to load data\n",
    "import pandas as pd\n",
    "from sklearn.tree import DecisionTreeRegressor\n",
    "\n",
    "# Path of the file to read\n",
    "iowa_file_path = '../input/home-data-for-ml-course/train.csv'\n",
    "\n",
    "home_data = pd.read_csv(iowa_file_path)\n",
    "y = home_data.SalePrice\n",
    "feature_columns = ['LotArea', 'YearBuilt', '1stFlrSF', '2ndFlrSF', 'FullBath', 'BedroomAbvGr', 'TotRmsAbvGrd']\n",
    "X = home_data[feature_columns]\n",
    "\n",
    "# Specify Model\n",
    "iowa_model = DecisionTreeRegressor()\n",
    "# Fit Model\n",
    "iowa_model.fit(X, y)\n",
    "\n",
    "print(\"First in-sample predictions:\", iowa_model.predict(X.head()))\n",
    "print(\"Actual target values for those homes:\", y.head().tolist())\n",
    "\n",
    "# Set up code checking\n",
    "from learntools.core import binder\n",
    "binder.bind(globals())\n",
    "from learntools.machine_learning.ex4 import *\n",
    "print(\"Setup Complete\")"
   ]
  },
  {
   "cell_type": "markdown",
   "id": "3333c163",
   "metadata": {
    "papermill": {
     "duration": 0.0042,
     "end_time": "2022-07-10T18:54:03.316027",
     "exception": false,
     "start_time": "2022-07-10T18:54:03.311827",
     "status": "completed"
    },
    "tags": []
   },
   "source": [
    "# Exercises\n",
    "\n",
    "## Step 1: Split Your Data\n",
    "Use the `train_test_split` function to split up your data.\n",
    "\n",
    "Give it the argument `random_state=1` so the `check` functions know what to expect when verifying your code.\n",
    "\n",
    "Recall, your features are loaded in the DataFrame **X** and your target is loaded in **y**.\n"
   ]
  },
  {
   "cell_type": "code",
   "execution_count": 2,
   "id": "e970ea79",
   "metadata": {
    "execution": {
     "iopub.execute_input": "2022-07-10T18:54:03.326351Z",
     "iopub.status.busy": "2022-07-10T18:54:03.325574Z",
     "iopub.status.idle": "2022-07-10T18:54:03.340498Z",
     "shell.execute_reply": "2022-07-10T18:54:03.339462Z"
    },
    "papermill": {
     "duration": 0.022499,
     "end_time": "2022-07-10T18:54:03.342628",
     "exception": false,
     "start_time": "2022-07-10T18:54:03.320129",
     "status": "completed"
    },
    "tags": []
   },
   "outputs": [
    {
     "data": {
      "application/javascript": [
       "parent.postMessage({\"jupyterEvent\": \"custom.exercise_interaction\", \"data\": {\"outcomeType\": 1, \"valueTowardsCompletion\": 0.25, \"interactionType\": 1, \"questionType\": 2, \"questionId\": \"1_SplitData\", \"learnToolsVersion\": \"0.3.4\", \"failureMessage\": \"\", \"exceptionClass\": \"\", \"trace\": \"\"}}, \"*\")"
      ],
      "text/plain": [
       "<IPython.core.display.Javascript object>"
      ]
     },
     "metadata": {},
     "output_type": "display_data"
    },
    {
     "data": {
      "text/markdown": [
       "<span style=\"color:#33cc33\">Correct</span>"
      ],
      "text/plain": [
       "Correct"
      ]
     },
     "metadata": {},
     "output_type": "display_data"
    }
   ],
   "source": [
    "# Import the train_test_split function\n",
    "from sklearn.model_selection import train_test_split\n",
    "\n",
    "train_X, val_X, train_y, val_y = train_test_split(X, y, random_state = 1)\n",
    "\n",
    "step_1.check()"
   ]
  },
  {
   "cell_type": "code",
   "execution_count": 3,
   "id": "339d47fa",
   "metadata": {
    "execution": {
     "iopub.execute_input": "2022-07-10T18:54:03.353059Z",
     "iopub.status.busy": "2022-07-10T18:54:03.352362Z",
     "iopub.status.idle": "2022-07-10T18:54:03.356923Z",
     "shell.execute_reply": "2022-07-10T18:54:03.355860Z"
    },
    "papermill": {
     "duration": 0.012483,
     "end_time": "2022-07-10T18:54:03.359156",
     "exception": false,
     "start_time": "2022-07-10T18:54:03.346673",
     "status": "completed"
    },
    "tags": []
   },
   "outputs": [],
   "source": [
    "# The lines below will show you a hint or the solution.\n",
    "# step_1.hint() \n",
    "#step_1.solution()\n"
   ]
  },
  {
   "cell_type": "markdown",
   "id": "4acadff9",
   "metadata": {
    "papermill": {
     "duration": 0.003607,
     "end_time": "2022-07-10T18:54:03.366853",
     "exception": false,
     "start_time": "2022-07-10T18:54:03.363246",
     "status": "completed"
    },
    "tags": []
   },
   "source": [
    "## Step 2: Specify and Fit the Model\n",
    "\n",
    "Create a `DecisionTreeRegressor` model and fit it to the relevant data.\n",
    "Set `random_state` to 1 again when creating the model."
   ]
  },
  {
   "cell_type": "code",
   "execution_count": 4,
   "id": "4dd40783",
   "metadata": {
    "execution": {
     "iopub.execute_input": "2022-07-10T18:54:03.376354Z",
     "iopub.status.busy": "2022-07-10T18:54:03.375902Z",
     "iopub.status.idle": "2022-07-10T18:54:03.404640Z",
     "shell.execute_reply": "2022-07-10T18:54:03.403246Z"
    },
    "papermill": {
     "duration": 0.036309,
     "end_time": "2022-07-10T18:54:03.407066",
     "exception": false,
     "start_time": "2022-07-10T18:54:03.370757",
     "status": "completed"
    },
    "tags": []
   },
   "outputs": [
    {
     "name": "stdout",
     "output_type": "stream",
     "text": [
      "[186500. 184000. 130000.  92000. 164500. 220000. 335000. 144152. 215000.\n",
      " 262000.]\n",
      "[186500. 184000. 130000.  92000. 164500. 220000. 335000. 144152. 215000.\n",
      " 262000.]\n"
     ]
    },
    {
     "data": {
      "application/javascript": [
       "parent.postMessage({\"jupyterEvent\": \"custom.exercise_interaction\", \"data\": {\"outcomeType\": 1, \"valueTowardsCompletion\": 0.25, \"interactionType\": 1, \"questionType\": 2, \"questionId\": \"2_FitModelWithTrain\", \"learnToolsVersion\": \"0.3.4\", \"failureMessage\": \"\", \"exceptionClass\": \"\", \"trace\": \"\"}}, \"*\")"
      ],
      "text/plain": [
       "<IPython.core.display.Javascript object>"
      ]
     },
     "metadata": {},
     "output_type": "display_data"
    },
    {
     "data": {
      "text/markdown": [
       "<span style=\"color:#33cc33\">Correct</span>"
      ],
      "text/plain": [
       "Correct"
      ]
     },
     "metadata": {},
     "output_type": "display_data"
    }
   ],
   "source": [
    "\n",
    "# You imported DecisionTreeRegressor in your last exercise\n",
    "# and that code has been copied to the setup code above. So, no need to\n",
    "# import it again\n",
    "\n",
    "# Specify the model\n",
    "iowa_model = DecisionTreeRegressor(random_state=1)\n",
    "\n",
    "# Fit iowa_model with the training data.\n",
    "iowa_model.fit(train_X, train_y)\n",
    "step_2.check()"
   ]
  },
  {
   "cell_type": "code",
   "execution_count": 5,
   "id": "cedf2b01",
   "metadata": {
    "execution": {
     "iopub.execute_input": "2022-07-10T18:54:03.417815Z",
     "iopub.status.busy": "2022-07-10T18:54:03.416875Z",
     "iopub.status.idle": "2022-07-10T18:54:03.421749Z",
     "shell.execute_reply": "2022-07-10T18:54:03.420611Z"
    },
    "papermill": {
     "duration": 0.012604,
     "end_time": "2022-07-10T18:54:03.424040",
     "exception": false,
     "start_time": "2022-07-10T18:54:03.411436",
     "status": "completed"
    },
    "tags": []
   },
   "outputs": [],
   "source": [
    "# step_2.hint()\n",
    "# step_2.solution()"
   ]
  },
  {
   "cell_type": "markdown",
   "id": "d03950da",
   "metadata": {
    "papermill": {
     "duration": 0.00409,
     "end_time": "2022-07-10T18:54:03.432729",
     "exception": false,
     "start_time": "2022-07-10T18:54:03.428639",
     "status": "completed"
    },
    "tags": []
   },
   "source": [
    "## Step 3: Make Predictions with Validation data\n"
   ]
  },
  {
   "cell_type": "code",
   "execution_count": 6,
   "id": "c27f2863",
   "metadata": {
    "execution": {
     "iopub.execute_input": "2022-07-10T18:54:03.443826Z",
     "iopub.status.busy": "2022-07-10T18:54:03.442543Z",
     "iopub.status.idle": "2022-07-10T18:54:03.454854Z",
     "shell.execute_reply": "2022-07-10T18:54:03.453917Z"
    },
    "papermill": {
     "duration": 0.019801,
     "end_time": "2022-07-10T18:54:03.456860",
     "exception": false,
     "start_time": "2022-07-10T18:54:03.437059",
     "status": "completed"
    },
    "tags": []
   },
   "outputs": [
    {
     "data": {
      "application/javascript": [
       "parent.postMessage({\"jupyterEvent\": \"custom.exercise_interaction\", \"data\": {\"outcomeType\": 1, \"valueTowardsCompletion\": 0.25, \"interactionType\": 1, \"questionType\": 2, \"questionId\": \"3_ValPreds\", \"learnToolsVersion\": \"0.3.4\", \"failureMessage\": \"\", \"exceptionClass\": \"\", \"trace\": \"\"}}, \"*\")"
      ],
      "text/plain": [
       "<IPython.core.display.Javascript object>"
      ]
     },
     "metadata": {},
     "output_type": "display_data"
    },
    {
     "data": {
      "text/markdown": [
       "<span style=\"color:#33cc33\">Correct</span>"
      ],
      "text/plain": [
       "Correct"
      ]
     },
     "metadata": {},
     "output_type": "display_data"
    }
   ],
   "source": [
    "# Predict with all validation observations\n",
    "val_predictions = iowa_model.predict(val_X)\n",
    "\n",
    "# Check your answer\n",
    "step_3.check()"
   ]
  },
  {
   "cell_type": "code",
   "execution_count": 7,
   "id": "329fba63",
   "metadata": {
    "execution": {
     "iopub.execute_input": "2022-07-10T18:54:03.467617Z",
     "iopub.status.busy": "2022-07-10T18:54:03.467227Z",
     "iopub.status.idle": "2022-07-10T18:54:03.472075Z",
     "shell.execute_reply": "2022-07-10T18:54:03.470659Z"
    },
    "papermill": {
     "duration": 0.013048,
     "end_time": "2022-07-10T18:54:03.474490",
     "exception": false,
     "start_time": "2022-07-10T18:54:03.461442",
     "status": "completed"
    },
    "tags": []
   },
   "outputs": [],
   "source": [
    "# step_3.hint()\n",
    "# step_3.solution()"
   ]
  },
  {
   "cell_type": "markdown",
   "id": "cd319f50",
   "metadata": {
    "papermill": {
     "duration": 0.00442,
     "end_time": "2022-07-10T18:54:03.483534",
     "exception": false,
     "start_time": "2022-07-10T18:54:03.479114",
     "status": "completed"
    },
    "tags": []
   },
   "source": [
    "Inspect your predictions and actual values from validation data."
   ]
  },
  {
   "cell_type": "code",
   "execution_count": 8,
   "id": "be57e0bd",
   "metadata": {
    "execution": {
     "iopub.execute_input": "2022-07-10T18:54:03.494820Z",
     "iopub.status.busy": "2022-07-10T18:54:03.494445Z",
     "iopub.status.idle": "2022-07-10T18:54:03.504511Z",
     "shell.execute_reply": "2022-07-10T18:54:03.503254Z"
    },
    "papermill": {
     "duration": 0.0203,
     "end_time": "2022-07-10T18:54:03.508417",
     "exception": false,
     "start_time": "2022-07-10T18:54:03.488117",
     "status": "completed"
    },
    "tags": []
   },
   "outputs": [
    {
     "name": "stdout",
     "output_type": "stream",
     "text": [
      "[186500. 184000. 130000.  92000. 164500. 220000. 335000. 144152. 215000.\n",
      " 262000. 180000. 121000. 175900. 210000. 248900. 131000. 100000. 149350.\n",
      " 235000. 156000. 149900. 265979. 193500. 377500. 100000. 162900. 145000.\n",
      " 180000. 582933. 146000. 140000.  91500. 112500. 113000. 145000. 312500.\n",
      " 110000. 132000. 305000. 128000. 162900. 115000. 110000. 124000. 215200.\n",
      " 180000.  79000. 192000. 282922. 235000. 132000. 325000.  80000. 237000.\n",
      " 208300. 100000. 120500. 162000. 153000. 187000. 185750. 335000. 129000.\n",
      " 124900. 185750. 133700. 127000. 230000. 146800. 157900. 136000. 153575.\n",
      " 335000. 177500. 143000. 202500. 168500. 105000. 305900. 192000. 190000.\n",
      " 140200. 134900. 128950. 213000. 108959. 149500. 190000. 175900. 160000.\n",
      " 250580. 157000. 120500. 147500. 118000. 117000. 110000. 130000. 148500.\n",
      " 148000. 190000. 130500. 127000. 120500. 135000. 168000. 176432. 128000.\n",
      " 147000. 260000. 132000. 129500. 171000. 181134. 227875. 189000. 282922.\n",
      "  94750. 185000. 194000. 159000. 279500. 290000. 135000. 299800. 165000.\n",
      " 394432. 135750. 155000. 212000. 310000. 134800.  84000. 122900.  80000.\n",
      " 191000. 755000. 147000. 248000. 106500. 145000. 359100. 145000. 192500.\n",
      " 149000. 252000. 109000. 215000. 220000. 138500. 185000. 185000. 120500.\n",
      " 181000. 173000. 335000.  67000. 149350.  67000. 156000. 119000. 110500.\n",
      " 184000. 147000. 156000. 171000. 177000. 159000. 125000. 105000. 284000.\n",
      " 167500. 200000. 312500. 213000. 135960. 205000. 237000. 107000. 163000.\n",
      " 132500. 155835. 165500. 138500. 257000. 160000. 394617. 281213. 161000.\n",
      " 127500.  88000. 139000.  89500. 132500. 134800. 335000. 248900. 155000.\n",
      " 147000.  86000. 185000. 200000. 180500. 215200. 319900. 105000. 194000.\n",
      " 340000. 256000. 280000. 186500. 105500. 155000. 133500. 255500. 253000.\n",
      " 130000.  92900. 256000. 100000. 755000. 138500. 168500. 112000. 127000.\n",
      " 109008. 197000. 245500. 171900. 162000. 128000. 173000. 132000. 118000.\n",
      " 235128. 118964. 260000. 116000. 185000. 315750. 236500. 140000. 151500.\n",
      " 184000.  84000. 130000. 154000. 205000. 110000. 151500. 123000. 129500.\n",
      " 173900. 181500. 165500. 106500. 184900.  84500. 377500. 118500. 180000.\n",
      " 190000. 208500. 181000.  98000. 157000. 151500.  84000. 139000. 100000.\n",
      " 161750. 165600. 116000. 118500. 187000. 147000. 112000. 132000. 230000.\n",
      " 128000. 147000. 125000. 145000. 151000. 284000. 221000. 140200. 129000.\n",
      " 290000. 105000.  96500. 310000. 140000. 132000. 203000. 221000. 215200.\n",
      " 214000. 139000.  91500. 148000. 155000. 115000. 180000. 165500. 223000.\n",
      " 139000. 179900. 150000. 185000. 163000. 176000. 127000. 227000. 146000.\n",
      "  99900. 275000. 180500. 180000. 157000. 186500. 179900. 137500. 219500.\n",
      " 155000. 345000. 197000. 205000. 159000. 159434. 156000. 196000. 252678.\n",
      " 255500. 213000. 150900. 143750. 139000. 260000. 189000. 213250. 207500.\n",
      "  80000. 221000. 109500. 155000. 165000. 149350. 204900. 105900. 155000.\n",
      " 176000. 395000. 149700. 147000. 143900. 226700. 176000. 116000. 325300.\n",
      " 133750. 188500. 148500. 284000. 201800.]\n",
      "258     231500\n",
      "267     179500\n",
      "288     122000\n",
      "649      84500\n",
      "1233    142000\n",
      "         ...  \n",
      "1017    187500\n",
      "534     178000\n",
      "1334    125000\n",
      "1369    232000\n",
      "628     135000\n",
      "Name: SalePrice, Length: 365, dtype: int64\n"
     ]
    }
   ],
   "source": [
    "# print the top few validation predictions\n",
    "print(val_predictions)\n",
    "# print the top few actual prices from validation data\n",
    "print(val_y)"
   ]
  },
  {
   "cell_type": "markdown",
   "id": "355166ba",
   "metadata": {
    "papermill": {
     "duration": 0.00409,
     "end_time": "2022-07-10T18:54:03.517168",
     "exception": false,
     "start_time": "2022-07-10T18:54:03.513078",
     "status": "completed"
    },
    "tags": []
   },
   "source": [
    "What do you notice that is different from what you saw with in-sample predictions (which are printed after the top code cell in this page).\n",
    "\n",
    "Do you remember why validation predictions differ from in-sample (or training) predictions? This is an important idea from the last lesson.\n",
    "\n",
    "## Step 4: Calculate the Mean Absolute Error in Validation Data\n"
   ]
  },
  {
   "cell_type": "code",
   "execution_count": 9,
   "id": "dbff90ab",
   "metadata": {
    "execution": {
     "iopub.execute_input": "2022-07-10T18:54:03.528357Z",
     "iopub.status.busy": "2022-07-10T18:54:03.527105Z",
     "iopub.status.idle": "2022-07-10T18:54:03.537803Z",
     "shell.execute_reply": "2022-07-10T18:54:03.536557Z"
    },
    "papermill": {
     "duration": 0.018739,
     "end_time": "2022-07-10T18:54:03.540215",
     "exception": false,
     "start_time": "2022-07-10T18:54:03.521476",
     "status": "completed"
    },
    "tags": []
   },
   "outputs": [
    {
     "name": "stdout",
     "output_type": "stream",
     "text": [
      "29652.931506849316\n"
     ]
    },
    {
     "data": {
      "application/javascript": [
       "parent.postMessage({\"jupyterEvent\": \"custom.exercise_interaction\", \"data\": {\"outcomeType\": 1, \"valueTowardsCompletion\": 0.25, \"interactionType\": 1, \"questionType\": 1, \"questionId\": \"4_MAE\", \"learnToolsVersion\": \"0.3.4\", \"failureMessage\": \"\", \"exceptionClass\": \"\", \"trace\": \"\"}}, \"*\")"
      ],
      "text/plain": [
       "<IPython.core.display.Javascript object>"
      ]
     },
     "metadata": {},
     "output_type": "display_data"
    },
    {
     "data": {
      "text/markdown": [
       "<span style=\"color:#33cc33\">Correct</span>"
      ],
      "text/plain": [
       "Correct"
      ]
     },
     "metadata": {},
     "output_type": "display_data"
    }
   ],
   "source": [
    "from sklearn.metrics import mean_absolute_error\n",
    "val_mae = mean_absolute_error(val_y, val_predictions)\n",
    "\n",
    "# uncomment following line to see the validation_mae\n",
    "print(val_mae)\n",
    "step_4.check()"
   ]
  },
  {
   "cell_type": "code",
   "execution_count": 10,
   "id": "6b69e703",
   "metadata": {
    "execution": {
     "iopub.execute_input": "2022-07-10T18:54:03.552127Z",
     "iopub.status.busy": "2022-07-10T18:54:03.551769Z",
     "iopub.status.idle": "2022-07-10T18:54:03.556715Z",
     "shell.execute_reply": "2022-07-10T18:54:03.555492Z"
    },
    "papermill": {
     "duration": 0.01365,
     "end_time": "2022-07-10T18:54:03.558984",
     "exception": false,
     "start_time": "2022-07-10T18:54:03.545334",
     "status": "completed"
    },
    "tags": []
   },
   "outputs": [],
   "source": [
    "# step_4.hint()\n",
    "# step_4.solution()"
   ]
  },
  {
   "cell_type": "markdown",
   "id": "03e6e557",
   "metadata": {
    "papermill": {
     "duration": 0.005134,
     "end_time": "2022-07-10T18:54:03.569508",
     "exception": false,
     "start_time": "2022-07-10T18:54:03.564374",
     "status": "completed"
    },
    "tags": []
   },
   "source": [
    "Is that MAE good?  There isn't a general rule for what values are good that applies across applications. But you'll see how to use (and improve) this number in the next step.\n",
    "\n",
    "# Keep Going\n",
    "\n",
    "You are ready for **[Underfitting and Overfitting](https://www.kaggle.com/dansbecker/underfitting-and-overfitting).**\n"
   ]
  },
  {
   "cell_type": "markdown",
   "id": "04efd533",
   "metadata": {
    "papermill": {
     "duration": 0.004671,
     "end_time": "2022-07-10T18:54:03.579493",
     "exception": false,
     "start_time": "2022-07-10T18:54:03.574822",
     "status": "completed"
    },
    "tags": []
   },
   "source": [
    "---\n",
    "\n",
    "\n",
    "\n",
    "\n",
    "*Have questions or comments? Visit the [course discussion forum](https://www.kaggle.com/learn/intro-to-machine-learning/discussion) to chat with other learners.*"
   ]
  }
 ],
 "metadata": {
  "kernelspec": {
   "display_name": "Python 3",
   "language": "python",
   "name": "python3"
  },
  "language_info": {
   "codemirror_mode": {
    "name": "ipython",
    "version": 3
   },
   "file_extension": ".py",
   "mimetype": "text/x-python",
   "name": "python",
   "nbconvert_exporter": "python",
   "pygments_lexer": "ipython3",
   "version": "3.7.12"
  },
  "papermill": {
   "default_parameters": {},
   "duration": 11.754881,
   "end_time": "2022-07-10T18:54:04.307801",
   "environment_variables": {},
   "exception": null,
   "input_path": "__notebook__.ipynb",
   "output_path": "__notebook__.ipynb",
   "parameters": {},
   "start_time": "2022-07-10T18:53:52.552920",
   "version": "2.3.4"
  }
 },
 "nbformat": 4,
 "nbformat_minor": 5
}
